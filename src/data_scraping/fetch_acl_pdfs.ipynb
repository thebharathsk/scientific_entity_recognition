{
 "cells": [
  {
   "cell_type": "code",
   "execution_count": 1,
   "id": "initial_id",
   "metadata": {
    "collapsed": true,
    "ExecuteTime": {
     "end_time": "2023-10-13T18:01:53.523746372Z",
     "start_time": "2023-10-13T18:01:52.415530874Z"
    }
   },
   "outputs": [
    {
     "name": "stdout",
     "output_type": "stream",
     "text": [
      "Requirement already satisfied: requests in /home/pab/Documents/Projects/11711_ANLP/venv/lib/python3.11/site-packages (2.31.0)\r\n",
      "Requirement already satisfied: beautifulsoup4 in /home/pab/Documents/Projects/11711_ANLP/venv/lib/python3.11/site-packages (4.12.2)\r\n",
      "Requirement already satisfied: charset-normalizer<4,>=2 in /home/pab/Documents/Projects/11711_ANLP/venv/lib/python3.11/site-packages (from requests) (3.2.0)\r\n",
      "Requirement already satisfied: idna<4,>=2.5 in /home/pab/Documents/Projects/11711_ANLP/venv/lib/python3.11/site-packages (from requests) (3.4)\r\n",
      "Requirement already satisfied: urllib3<3,>=1.21.1 in /home/pab/Documents/Projects/11711_ANLP/venv/lib/python3.11/site-packages (from requests) (2.0.4)\r\n",
      "Requirement already satisfied: certifi>=2017.4.17 in /home/pab/Documents/Projects/11711_ANLP/venv/lib/python3.11/site-packages (from requests) (2023.7.22)\r\n",
      "Requirement already satisfied: soupsieve>1.2 in /home/pab/Documents/Projects/11711_ANLP/venv/lib/python3.11/site-packages (from beautifulsoup4) (2.5)\r\n",
      "\r\n",
      "\u001B[1m[\u001B[0m\u001B[34;49mnotice\u001B[0m\u001B[1;39;49m]\u001B[0m\u001B[39;49m A new release of pip available: \u001B[0m\u001B[31;49m22.3.1\u001B[0m\u001B[39;49m -> \u001B[0m\u001B[32;49m23.2.1\u001B[0m\r\n",
      "\u001B[1m[\u001B[0m\u001B[34;49mnotice\u001B[0m\u001B[1;39;49m]\u001B[0m\u001B[39;49m To update, run: \u001B[0m\u001B[32;49mpip install --upgrade pip\u001B[0m\r\n"
     ]
    }
   ],
   "source": [
    "!pip install requests beautifulsoup4"
   ]
  },
  {
   "cell_type": "code",
   "execution_count": 2,
   "outputs": [],
   "source": [
    "YEARS = [str(year) for year in range(2020, 2024)]  # The years for which we must download the PDFs\n",
    "PDF_DEST_ROOT_PATH = './pdfs'  # Where the PDFs must be stored; format -> PDF_DEST_ROOT_PATH/<event_name>/<pdf_name>.pdf\n",
    "BASE_URL = \"https://aclanthology.org/\""
   ],
   "metadata": {
    "collapsed": false,
    "ExecuteTime": {
     "end_time": "2023-10-13T18:01:54.424493693Z",
     "start_time": "2023-10-13T18:01:54.421765014Z"
    }
   },
   "id": "31977ed62d713030"
  },
  {
   "cell_type": "code",
   "execution_count": 3,
   "outputs": [],
   "source": [
    "import os\n",
    "import requests\n",
    "from bs4 import BeautifulSoup\n",
    "from urllib.parse import urljoin"
   ],
   "metadata": {
    "collapsed": false,
    "ExecuteTime": {
     "end_time": "2023-10-13T18:01:55.411883243Z",
     "start_time": "2023-10-13T18:01:55.348896383Z"
    }
   },
   "id": "60176aff6e33b94c"
  },
  {
   "cell_type": "code",
   "execution_count": 4,
   "outputs": [],
   "source": [
    "response = requests.get(BASE_URL)\n",
    "soup = BeautifulSoup(response.content, 'html.parser')\n",
    "hrefs = soup.find_all('a', href=True)\n",
    "events = [a['href'] for a in hrefs if '/events/' in a['href'] and any(year in a['href'] for year in YEARS)]"
   ],
   "metadata": {
    "collapsed": false,
    "ExecuteTime": {
     "end_time": "2023-10-13T18:01:56.346756990Z",
     "start_time": "2023-10-13T18:01:56.168745347Z"
    }
   },
   "id": "4b8fc34480c4339"
  },
  {
   "cell_type": "code",
   "execution_count": 5,
   "outputs": [],
   "source": [
    "def download_pdf(pdf_url, folder_name):\n",
    "    response = requests.get(pdf_url)\n",
    "    pdf_name = os.path.join(folder_name, pdf_url.split(\"/\")[-1])\n",
    "    with open(pdf_name, 'wb') as pdf_file:\n",
    "        pdf_file.write(response.content)\n",
    "\n",
    "\n",
    "def get_pdf_links(year_url):\n",
    "    response = requests.get(year_url)\n",
    "    soup = BeautifulSoup(response.text, 'html.parser')\n",
    "    pdf_links = [urljoin(BASE_URL, link['href']) for link in soup.select(\"a[href$='.pdf']\")]\n",
    "    return pdf_links\n",
    "\n",
    "\n",
    "def scrape_pdfs_for_years():\n",
    "    for event in events:\n",
    "        print(f\"Downloading event = {event}\")\n",
    "        event_year_url = urljoin(BASE_URL, event)\n",
    "        pdf_links = get_pdf_links(event_year_url)\n",
    "        dest_folder_dir = os.path.join(PDF_DEST_ROOT_PATH, event.split('/')[2])\n",
    "        os.makedirs(dest_folder_dir, exist_ok=True)\n",
    "        for pdf_url in pdf_links:\n",
    "            download_pdf(pdf_url, dest_folder_dir)\n",
    "            print(f\"Downloaded: {pdf_url} @ {dest_folder_dir}\")"
   ],
   "metadata": {
    "collapsed": false,
    "ExecuteTime": {
     "end_time": "2023-10-13T18:01:57.116872209Z",
     "start_time": "2023-10-13T18:01:57.115083253Z"
    }
   },
   "id": "cdbd0fceb1d354cb"
  },
  {
   "cell_type": "code",
   "execution_count": 6,
   "outputs": [
    {
     "name": "stdout",
     "output_type": "stream",
     "text": [
      "Downloading event = /events/aacl-2022/\n",
      "Downloaded: https://aclanthology.org/2022.aacl-main.pdf @ ./pdfs/aacl-2022\n",
      "Downloaded: https://aclanthology.org/2022.aacl-main.0.pdf @ ./pdfs/aacl-2022\n",
      "Downloaded: https://aclanthology.org/2022.aacl-main.1.pdf @ ./pdfs/aacl-2022\n",
      "Downloaded: https://aclanthology.org/2022.aacl-main.2.pdf @ ./pdfs/aacl-2022\n",
      "Downloaded: https://aclanthology.org/2022.aacl-main.3.pdf @ ./pdfs/aacl-2022\n",
      "Downloaded: https://aclanthology.org/2022.aacl-main.4.pdf @ ./pdfs/aacl-2022\n",
      "Downloaded: https://aclanthology.org/2022.aacl-main.5.pdf @ ./pdfs/aacl-2022\n",
      "Downloaded: https://aclanthology.org/2022.aacl-main.6.pdf @ ./pdfs/aacl-2022\n",
      "Downloaded: https://aclanthology.org/2022.aacl-main.7.pdf @ ./pdfs/aacl-2022\n",
      "Downloaded: https://aclanthology.org/2022.aacl-main.8.pdf @ ./pdfs/aacl-2022\n",
      "Downloaded: https://aclanthology.org/2022.aacl-main.9.pdf @ ./pdfs/aacl-2022\n",
      "Downloaded: https://aclanthology.org/2022.aacl-main.10.pdf @ ./pdfs/aacl-2022\n",
      "Downloaded: https://aclanthology.org/2022.aacl-main.11.pdf @ ./pdfs/aacl-2022\n",
      "Downloaded: https://aclanthology.org/2022.aacl-main.12.pdf @ ./pdfs/aacl-2022\n",
      "Downloaded: https://aclanthology.org/2022.aacl-main.13.pdf @ ./pdfs/aacl-2022\n",
      "Downloaded: https://aclanthology.org/2022.aacl-main.14.pdf @ ./pdfs/aacl-2022\n",
      "Downloaded: https://aclanthology.org/2022.aacl-main.15.pdf @ ./pdfs/aacl-2022\n",
      "Downloaded: https://aclanthology.org/2022.aacl-main.16.pdf @ ./pdfs/aacl-2022\n",
      "Downloaded: https://aclanthology.org/2022.aacl-main.17.pdf @ ./pdfs/aacl-2022\n"
     ]
    },
    {
     "name": "stderr",
     "output_type": "stream",
     "text": [
      "\n",
      "KeyboardInterrupt\n",
      "\n"
     ]
    }
   ],
   "source": [
    "scrape_pdfs_for_years()"
   ],
   "metadata": {
    "collapsed": false,
    "ExecuteTime": {
     "end_time": "2023-10-13T18:02:15.683307388Z",
     "start_time": "2023-10-13T18:02:00.626829518Z"
    }
   },
   "id": "553328bc4489e562"
  }
 ],
 "metadata": {
  "kernelspec": {
   "display_name": "Python 3",
   "language": "python",
   "name": "python3"
  },
  "language_info": {
   "codemirror_mode": {
    "name": "ipython",
    "version": 2
   },
   "file_extension": ".py",
   "mimetype": "text/x-python",
   "name": "python",
   "nbconvert_exporter": "python",
   "pygments_lexer": "ipython2",
   "version": "2.7.6"
  }
 },
 "nbformat": 4,
 "nbformat_minor": 5
}
