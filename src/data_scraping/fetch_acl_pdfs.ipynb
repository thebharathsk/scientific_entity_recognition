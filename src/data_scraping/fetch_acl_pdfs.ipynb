{
 "cells": [
  {
   "cell_type": "code",
   "execution_count": 4,
   "id": "initial_id",
   "metadata": {
    "ExecuteTime": {
     "end_time": "2023-10-13T18:01:53.523746372Z",
     "start_time": "2023-10-13T18:01:52.415530874Z"
    },
    "collapsed": true
   },
   "outputs": [
    {
     "name": "stdout",
     "output_type": "stream",
     "text": [
      "Requirement already satisfied: requests in /home/bharathsk/anaconda3/envs/11711/lib/python3.10/site-packages (2.31.0)\n",
      "Requirement already satisfied: beautifulsoup4 in /home/bharathsk/anaconda3/envs/11711/lib/python3.10/site-packages (4.12.2)\n",
      "Requirement already satisfied: charset-normalizer<4,>=2 in /home/bharathsk/anaconda3/envs/11711/lib/python3.10/site-packages (from requests) (2.0.4)\n",
      "Requirement already satisfied: idna<4,>=2.5 in /home/bharathsk/anaconda3/envs/11711/lib/python3.10/site-packages (from requests) (3.4)\n",
      "Requirement already satisfied: urllib3<3,>=1.21.1 in /home/bharathsk/anaconda3/envs/11711/lib/python3.10/site-packages (from requests) (1.26.16)\n",
      "Requirement already satisfied: certifi>=2017.4.17 in /home/bharathsk/anaconda3/envs/11711/lib/python3.10/site-packages (from requests) (2023.7.22)\n",
      "Requirement already satisfied: soupsieve>1.2 in /home/bharathsk/anaconda3/envs/11711/lib/python3.10/site-packages (from beautifulsoup4) (2.5)\n"
     ]
    }
   ],
   "source": [
    "!pip install requests beautifulsoup4"
   ]
  },
  {
   "cell_type": "code",
   "execution_count": 1,
   "id": "31977ed62d713030",
   "metadata": {
    "collapsed": false,
    "ExecuteTime": {
     "end_time": "2023-10-13T22:53:58.267550885Z",
     "start_time": "2023-10-13T22:53:58.264087240Z"
    }
   },
   "outputs": [],
   "source": [
    "YEARS = [str(year) for year in range(2020, 2024)]  # The years for which we must download the PDFs\n",
    "PDF_DEST_ROOT_PATH = '/home/bharathsk/acads/fall_2023/scientific_entity_recognition/data/pdfs'  # Where the PDFs must be stored; format -> PDF_DEST_ROOT_PATH/<event_name>/<pdf_name>.pdf\n",
    "BASE_URL = \"https://aclanthology.org/\""
   ]
  },
  {
   "cell_type": "code",
   "execution_count": 2,
   "id": "60176aff6e33b94c",
   "metadata": {
    "collapsed": false,
    "ExecuteTime": {
     "end_time": "2023-10-13T22:53:59.492959462Z",
     "start_time": "2023-10-13T22:53:59.110357367Z"
    }
   },
   "outputs": [],
   "source": [
    "import os\n",
    "import requests\n",
    "from bs4 import BeautifulSoup\n",
    "from urllib.parse import urljoin"
   ]
  },
  {
   "cell_type": "code",
   "execution_count": 3,
   "id": "4b8fc34480c4339",
   "metadata": {
    "collapsed": false,
    "ExecuteTime": {
     "end_time": "2023-10-13T22:54:01.305103792Z",
     "start_time": "2023-10-13T22:54:01.151429277Z"
    }
   },
   "outputs": [],
   "source": [
    "response = requests.get(BASE_URL)\n",
    "soup = BeautifulSoup(response.content, 'html.parser')\n",
    "hrefs = soup.find_all('a', href=True)\n",
    "events = [a['href'] for a in hrefs if '/events/' in a['href'] and any(year in a['href'] for year in YEARS)]"
   ]
  },
  {
   "cell_type": "code",
   "execution_count": 8,
   "id": "cdbd0fceb1d354cb",
   "metadata": {
    "ExecuteTime": {
     "end_time": "2023-10-13T18:01:57.116872209Z",
     "start_time": "2023-10-13T18:01:57.115083253Z"
    },
    "collapsed": false
   },
   "outputs": [],
   "source": [
    "def download_pdf(pdf_url, folder_name):\n",
    "    response = requests.get(pdf_url)\n",
    "    pdf_name = os.path.join(folder_name, pdf_url.split(\"/\")[-1])\n",
    "    with open(pdf_name, 'wb') as pdf_file:\n",
    "        pdf_file.write(response.content)\n",
    "\n",
    "\n",
    "def get_pdf_links(year_url):\n",
    "    response = requests.get(year_url)\n",
    "    soup = BeautifulSoup(response.text, 'html.parser')\n",
    "    pdf_links = [urljoin(BASE_URL, link['href']) for link in soup.select(\"a[href$='.pdf']\")]\n",
    "    return pdf_links\n",
    "\n",
    "\n",
    "def scrape_pdfs_for_years():\n",
    "    for event in events:\n",
    "        print(f\"Downloading event = {event}\")\n",
    "        event_year_url = urljoin(BASE_URL, event)\n",
    "        pdf_links = get_pdf_links(event_year_url)\n",
    "        dest_folder_dir = os.path.join(PDF_DEST_ROOT_PATH, event.split('/')[2])\n",
    "        os.makedirs(dest_folder_dir, exist_ok=True)\n",
    "        for pdf_url in pdf_links:\n",
    "            download_pdf(pdf_url, dest_folder_dir)\n",
    "            print(f\"Downloaded: {pdf_url} @ {dest_folder_dir}\")"
   ]
  },
  {
   "cell_type": "code",
   "execution_count": 9,
   "id": "553328bc4489e562",
   "metadata": {
    "ExecuteTime": {
     "end_time": "2023-10-13T18:02:15.683307388Z",
     "start_time": "2023-10-13T18:02:00.626829518Z"
    },
    "collapsed": false
   },
   "outputs": [
    {
     "name": "stdout",
     "output_type": "stream",
     "text": [
      "Downloading event = /events/aacl-2022/\n",
      "Downloaded: https://aclanthology.org/2022.aacl-main.pdf @ ../../data/pdfs/aacl-2022\n",
      "Downloaded: https://aclanthology.org/2022.aacl-main.0.pdf @ ../../data/pdfs/aacl-2022\n",
      "Downloaded: https://aclanthology.org/2022.aacl-main.1.pdf @ ../../data/pdfs/aacl-2022\n",
      "Downloaded: https://aclanthology.org/2022.aacl-main.2.pdf @ ../../data/pdfs/aacl-2022\n",
      "Downloaded: https://aclanthology.org/2022.aacl-main.3.pdf @ ../../data/pdfs/aacl-2022\n",
      "Downloaded: https://aclanthology.org/2022.aacl-main.4.pdf @ ../../data/pdfs/aacl-2022\n",
      "Downloaded: https://aclanthology.org/2022.aacl-main.5.pdf @ ../../data/pdfs/aacl-2022\n",
      "Downloaded: https://aclanthology.org/2022.aacl-main.6.pdf @ ../../data/pdfs/aacl-2022\n",
      "Downloaded: https://aclanthology.org/2022.aacl-main.7.pdf @ ../../data/pdfs/aacl-2022\n",
      "Downloaded: https://aclanthology.org/2022.aacl-main.8.pdf @ ../../data/pdfs/aacl-2022\n",
      "Downloaded: https://aclanthology.org/2022.aacl-main.9.pdf @ ../../data/pdfs/aacl-2022\n",
      "Downloaded: https://aclanthology.org/2022.aacl-main.10.pdf @ ../../data/pdfs/aacl-2022\n",
      "Downloaded: https://aclanthology.org/2022.aacl-main.11.pdf @ ../../data/pdfs/aacl-2022\n",
      "Downloaded: https://aclanthology.org/2022.aacl-main.12.pdf @ ../../data/pdfs/aacl-2022\n",
      "Downloaded: https://aclanthology.org/2022.aacl-main.13.pdf @ ../../data/pdfs/aacl-2022\n",
      "Downloaded: https://aclanthology.org/2022.aacl-main.14.pdf @ ../../data/pdfs/aacl-2022\n",
      "Downloaded: https://aclanthology.org/2022.aacl-main.15.pdf @ ../../data/pdfs/aacl-2022\n",
      "Downloaded: https://aclanthology.org/2022.aacl-main.16.pdf @ ../../data/pdfs/aacl-2022\n",
      "Downloaded: https://aclanthology.org/2022.aacl-main.17.pdf @ ../../data/pdfs/aacl-2022\n",
      "Downloaded: https://aclanthology.org/2022.aacl-main.18.pdf @ ../../data/pdfs/aacl-2022\n",
      "Downloaded: https://aclanthology.org/2022.aacl-main.19.pdf @ ../../data/pdfs/aacl-2022\n",
      "Downloaded: https://aclanthology.org/2022.aacl-main.20.pdf @ ../../data/pdfs/aacl-2022\n",
      "Downloaded: https://aclanthology.org/2022.aacl-main.21.pdf @ ../../data/pdfs/aacl-2022\n",
      "Downloaded: https://aclanthology.org/2022.aacl-main.22.pdf @ ../../data/pdfs/aacl-2022\n",
      "Downloaded: https://aclanthology.org/2022.aacl-main.23.pdf @ ../../data/pdfs/aacl-2022\n",
      "Downloaded: https://aclanthology.org/2022.aacl-main.24.pdf @ ../../data/pdfs/aacl-2022\n",
      "Downloaded: https://aclanthology.org/2022.aacl-main.25.pdf @ ../../data/pdfs/aacl-2022\n",
      "Downloaded: https://aclanthology.org/2022.aacl-main.26.pdf @ ../../data/pdfs/aacl-2022\n",
      "Downloaded: https://aclanthology.org/2022.aacl-main.27.pdf @ ../../data/pdfs/aacl-2022\n",
      "Downloaded: https://aclanthology.org/2022.aacl-main.28.pdf @ ../../data/pdfs/aacl-2022\n",
      "Downloaded: https://aclanthology.org/2022.aacl-main.29.pdf @ ../../data/pdfs/aacl-2022\n",
      "Downloaded: https://aclanthology.org/2022.aacl-main.30.pdf @ ../../data/pdfs/aacl-2022\n",
      "Downloaded: https://aclanthology.org/2022.aacl-main.31.pdf @ ../../data/pdfs/aacl-2022\n",
      "Downloaded: https://aclanthology.org/2022.aacl-main.32.pdf @ ../../data/pdfs/aacl-2022\n",
      "Downloaded: https://aclanthology.org/2022.aacl-main.33.pdf @ ../../data/pdfs/aacl-2022\n",
      "Downloaded: https://aclanthology.org/2022.aacl-main.34.pdf @ ../../data/pdfs/aacl-2022\n",
      "Downloaded: https://aclanthology.org/2022.aacl-main.35.pdf @ ../../data/pdfs/aacl-2022\n",
      "Downloaded: https://aclanthology.org/2022.aacl-main.36.pdf @ ../../data/pdfs/aacl-2022\n",
      "Downloaded: https://aclanthology.org/2022.aacl-main.37.pdf @ ../../data/pdfs/aacl-2022\n",
      "Downloaded: https://aclanthology.org/2022.aacl-main.38.pdf @ ../../data/pdfs/aacl-2022\n",
      "Downloaded: https://aclanthology.org/2022.aacl-main.39.pdf @ ../../data/pdfs/aacl-2022\n",
      "Downloaded: https://aclanthology.org/2022.aacl-main.40.pdf @ ../../data/pdfs/aacl-2022\n",
      "Downloaded: https://aclanthology.org/2022.aacl-main.41.pdf @ ../../data/pdfs/aacl-2022\n",
      "Downloaded: https://aclanthology.org/2022.aacl-main.42.pdf @ ../../data/pdfs/aacl-2022\n",
      "Downloaded: https://aclanthology.org/2022.aacl-main.43.pdf @ ../../data/pdfs/aacl-2022\n",
      "Downloaded: https://aclanthology.org/2022.aacl-main.44.pdf @ ../../data/pdfs/aacl-2022\n",
      "Downloaded: https://aclanthology.org/2022.aacl-main.45.pdf @ ../../data/pdfs/aacl-2022\n",
      "Downloaded: https://aclanthology.org/2022.aacl-main.46.pdf @ ../../data/pdfs/aacl-2022\n",
      "Downloaded: https://aclanthology.org/2022.aacl-main.47.pdf @ ../../data/pdfs/aacl-2022\n",
      "Downloaded: https://aclanthology.org/2022.aacl-main.48.pdf @ ../../data/pdfs/aacl-2022\n",
      "Downloaded: https://aclanthology.org/2022.aacl-main.49.pdf @ ../../data/pdfs/aacl-2022\n",
      "Downloaded: https://aclanthology.org/2022.aacl-main.50.pdf @ ../../data/pdfs/aacl-2022\n",
      "Downloaded: https://aclanthology.org/2022.aacl-main.51.pdf @ ../../data/pdfs/aacl-2022\n",
      "Downloaded: https://aclanthology.org/2022.aacl-main.52.pdf @ ../../data/pdfs/aacl-2022\n",
      "Downloaded: https://aclanthology.org/2022.aacl-main.53.pdf @ ../../data/pdfs/aacl-2022\n",
      "Downloaded: https://aclanthology.org/2022.aacl-main.54.pdf @ ../../data/pdfs/aacl-2022\n",
      "Downloaded: https://aclanthology.org/2022.aacl-main.55.pdf @ ../../data/pdfs/aacl-2022\n",
      "Downloaded: https://aclanthology.org/2022.aacl-main.56.pdf @ ../../data/pdfs/aacl-2022\n",
      "Downloaded: https://aclanthology.org/2022.aacl-main.57.pdf @ ../../data/pdfs/aacl-2022\n",
      "Downloaded: https://aclanthology.org/2022.aacl-main.58.pdf @ ../../data/pdfs/aacl-2022\n",
      "Downloaded: https://aclanthology.org/2022.aacl-main.59.pdf @ ../../data/pdfs/aacl-2022\n",
      "Downloaded: https://aclanthology.org/2022.aacl-main.60.pdf @ ../../data/pdfs/aacl-2022\n",
      "Downloaded: https://aclanthology.org/2022.aacl-main.61.pdf @ ../../data/pdfs/aacl-2022\n",
      "Downloaded: https://aclanthology.org/2022.aacl-main.62.pdf @ ../../data/pdfs/aacl-2022\n",
      "Downloaded: https://aclanthology.org/2022.aacl-main.63.pdf @ ../../data/pdfs/aacl-2022\n",
      "Downloaded: https://aclanthology.org/2022.aacl-main.64.pdf @ ../../data/pdfs/aacl-2022\n",
      "Downloaded: https://aclanthology.org/2022.aacl-main.65.pdf @ ../../data/pdfs/aacl-2022\n",
      "Downloaded: https://aclanthology.org/2022.aacl-main.66.pdf @ ../../data/pdfs/aacl-2022\n",
      "Downloaded: https://aclanthology.org/2022.aacl-main.67.pdf @ ../../data/pdfs/aacl-2022\n",
      "Downloaded: https://aclanthology.org/2022.aacl-main.68.pdf @ ../../data/pdfs/aacl-2022\n",
      "Downloaded: https://aclanthology.org/2022.aacl-main.69.pdf @ ../../data/pdfs/aacl-2022\n",
      "Downloaded: https://aclanthology.org/2022.aacl-main.70.pdf @ ../../data/pdfs/aacl-2022\n",
      "Downloaded: https://aclanthology.org/2022.aacl-main.71.pdf @ ../../data/pdfs/aacl-2022\n",
      "Downloaded: https://aclanthology.org/2022.aacl-main.72.pdf @ ../../data/pdfs/aacl-2022\n",
      "Downloaded: https://aclanthology.org/attachments/2022.aacl-main.72.Dataset.pdf @ ../../data/pdfs/aacl-2022\n",
      "Downloaded: https://aclanthology.org/2022.aacl-main.73.pdf @ ../../data/pdfs/aacl-2022\n",
      "Downloaded: https://aclanthology.org/2022.aacl-main.74.pdf @ ../../data/pdfs/aacl-2022\n",
      "Downloaded: https://aclanthology.org/2022.aacl-main.75.pdf @ ../../data/pdfs/aacl-2022\n",
      "Downloaded: https://aclanthology.org/2022.aacl-main.76.pdf @ ../../data/pdfs/aacl-2022\n",
      "Downloaded: https://aclanthology.org/2022.aacl-main.77.pdf @ ../../data/pdfs/aacl-2022\n",
      "Downloaded: https://aclanthology.org/2022.aacl-main.78.pdf @ ../../data/pdfs/aacl-2022\n",
      "Downloaded: https://aclanthology.org/2022.aacl-main.79.pdf @ ../../data/pdfs/aacl-2022\n",
      "Downloaded: https://aclanthology.org/2022.aacl-main.80.pdf @ ../../data/pdfs/aacl-2022\n",
      "Downloaded: https://aclanthology.org/2022.aacl-main.81.pdf @ ../../data/pdfs/aacl-2022\n",
      "Downloaded: https://aclanthology.org/2022.aacl-main.82.pdf @ ../../data/pdfs/aacl-2022\n",
      "Downloaded: https://aclanthology.org/2022.aacl-main.83.pdf @ ../../data/pdfs/aacl-2022\n",
      "Downloaded: https://aclanthology.org/2022.aacl-main.84.pdf @ ../../data/pdfs/aacl-2022\n",
      "Downloaded: https://aclanthology.org/2022.aacl-main.85.pdf @ ../../data/pdfs/aacl-2022\n",
      "Downloaded: https://aclanthology.org/2022.aacl-main.86.pdf @ ../../data/pdfs/aacl-2022\n",
      "Downloaded: https://aclanthology.org/2022.aacl-main.87.pdf @ ../../data/pdfs/aacl-2022\n",
      "Downloaded: https://aclanthology.org/2022.aacl-short.pdf @ ../../data/pdfs/aacl-2022\n",
      "Downloaded: https://aclanthology.org/2022.aacl-short.0.pdf @ ../../data/pdfs/aacl-2022\n",
      "Downloaded: https://aclanthology.org/2022.aacl-short.1.pdf @ ../../data/pdfs/aacl-2022\n",
      "Downloaded: https://aclanthology.org/2022.aacl-short.2.pdf @ ../../data/pdfs/aacl-2022\n",
      "Downloaded: https://aclanthology.org/2022.aacl-short.3.pdf @ ../../data/pdfs/aacl-2022\n",
      "Downloaded: https://aclanthology.org/2022.aacl-short.4.pdf @ ../../data/pdfs/aacl-2022\n",
      "Downloaded: https://aclanthology.org/2022.aacl-short.5.pdf @ ../../data/pdfs/aacl-2022\n",
      "Downloaded: https://aclanthology.org/2022.aacl-short.6.pdf @ ../../data/pdfs/aacl-2022\n",
      "Downloaded: https://aclanthology.org/2022.aacl-short.7.pdf @ ../../data/pdfs/aacl-2022\n",
      "Downloaded: https://aclanthology.org/2022.aacl-short.8.pdf @ ../../data/pdfs/aacl-2022\n",
      "Downloaded: https://aclanthology.org/2022.aacl-short.9.pdf @ ../../data/pdfs/aacl-2022\n",
      "Downloaded: https://aclanthology.org/2022.aacl-short.10.pdf @ ../../data/pdfs/aacl-2022\n",
      "Downloaded: https://aclanthology.org/2022.aacl-short.11.pdf @ ../../data/pdfs/aacl-2022\n",
      "Downloaded: https://aclanthology.org/2022.aacl-short.12.pdf @ ../../data/pdfs/aacl-2022\n",
      "Downloaded: https://aclanthology.org/2022.aacl-short.13.pdf @ ../../data/pdfs/aacl-2022\n",
      "Downloaded: https://aclanthology.org/2022.aacl-short.14.pdf @ ../../data/pdfs/aacl-2022\n",
      "Downloaded: https://aclanthology.org/2022.aacl-short.15.pdf @ ../../data/pdfs/aacl-2022\n",
      "Downloaded: https://aclanthology.org/2022.aacl-short.16.pdf @ ../../data/pdfs/aacl-2022\n",
      "Downloaded: https://aclanthology.org/2022.aacl-short.17.pdf @ ../../data/pdfs/aacl-2022\n",
      "Downloaded: https://aclanthology.org/2022.aacl-short.18.pdf @ ../../data/pdfs/aacl-2022\n",
      "Downloaded: https://aclanthology.org/2022.aacl-short.19.pdf @ ../../data/pdfs/aacl-2022\n",
      "Downloaded: https://aclanthology.org/2022.aacl-short.20.pdf @ ../../data/pdfs/aacl-2022\n",
      "Downloaded: https://aclanthology.org/2022.aacl-short.21.pdf @ ../../data/pdfs/aacl-2022\n",
      "Downloaded: https://aclanthology.org/2022.aacl-short.22.pdf @ ../../data/pdfs/aacl-2022\n",
      "Downloaded: https://aclanthology.org/2022.aacl-short.23.pdf @ ../../data/pdfs/aacl-2022\n",
      "Downloaded: https://aclanthology.org/2022.aacl-short.24.pdf @ ../../data/pdfs/aacl-2022\n",
      "Downloaded: https://aclanthology.org/2022.aacl-short.25.pdf @ ../../data/pdfs/aacl-2022\n",
      "Downloaded: https://aclanthology.org/2022.aacl-short.26.pdf @ ../../data/pdfs/aacl-2022\n",
      "Downloaded: https://aclanthology.org/2022.aacl-short.27.pdf @ ../../data/pdfs/aacl-2022\n",
      "Downloaded: https://aclanthology.org/2022.aacl-short.28.pdf @ ../../data/pdfs/aacl-2022\n",
      "Downloaded: https://aclanthology.org/2022.aacl-short.29.pdf @ ../../data/pdfs/aacl-2022\n",
      "Downloaded: https://aclanthology.org/2022.aacl-short.30.pdf @ ../../data/pdfs/aacl-2022\n",
      "Downloaded: https://aclanthology.org/2022.aacl-short.31.pdf @ ../../data/pdfs/aacl-2022\n",
      "Downloaded: https://aclanthology.org/2022.aacl-short.32.pdf @ ../../data/pdfs/aacl-2022\n",
      "Downloaded: https://aclanthology.org/2022.aacl-short.33.pdf @ ../../data/pdfs/aacl-2022\n",
      "Downloaded: https://aclanthology.org/2022.aacl-short.34.pdf @ ../../data/pdfs/aacl-2022\n",
      "Downloaded: https://aclanthology.org/2022.aacl-short.35.pdf @ ../../data/pdfs/aacl-2022\n",
      "Downloaded: https://aclanthology.org/2022.aacl-short.36.pdf @ ../../data/pdfs/aacl-2022\n",
      "Downloaded: https://aclanthology.org/2022.aacl-short.37.pdf @ ../../data/pdfs/aacl-2022\n",
      "Downloaded: https://aclanthology.org/2022.aacl-short.38.pdf @ ../../data/pdfs/aacl-2022\n",
      "Downloaded: https://aclanthology.org/2022.aacl-short.39.pdf @ ../../data/pdfs/aacl-2022\n",
      "Downloaded: https://aclanthology.org/2022.aacl-short.40.pdf @ ../../data/pdfs/aacl-2022\n",
      "Downloaded: https://aclanthology.org/2022.aacl-short.41.pdf @ ../../data/pdfs/aacl-2022\n",
      "Downloaded: https://aclanthology.org/2022.aacl-short.42.pdf @ ../../data/pdfs/aacl-2022\n",
      "Downloaded: https://aclanthology.org/2022.aacl-short.43.pdf @ ../../data/pdfs/aacl-2022\n",
      "Downloaded: https://aclanthology.org/2022.aacl-short.44.pdf @ ../../data/pdfs/aacl-2022\n",
      "Downloaded: https://aclanthology.org/2022.aacl-short.45.pdf @ ../../data/pdfs/aacl-2022\n",
      "Downloaded: https://aclanthology.org/2022.aacl-short.46.pdf @ ../../data/pdfs/aacl-2022\n",
      "Downloaded: https://aclanthology.org/2022.aacl-short.47.pdf @ ../../data/pdfs/aacl-2022\n",
      "Downloaded: https://aclanthology.org/2022.aacl-short.48.pdf @ ../../data/pdfs/aacl-2022\n",
      "Downloaded: https://aclanthology.org/2022.aacl-short.49.pdf @ ../../data/pdfs/aacl-2022\n",
      "Downloaded: https://aclanthology.org/2022.aacl-short.50.pdf @ ../../data/pdfs/aacl-2022\n",
      "Downloaded: https://aclanthology.org/2022.aacl-short.51.pdf @ ../../data/pdfs/aacl-2022\n",
      "Downloaded: https://aclanthology.org/2022.aacl-short.52.pdf @ ../../data/pdfs/aacl-2022\n",
      "Downloaded: https://aclanthology.org/2022.aacl-short.53.pdf @ ../../data/pdfs/aacl-2022\n",
      "Downloaded: https://aclanthology.org/2022.aacl-short.54.pdf @ ../../data/pdfs/aacl-2022\n",
      "Downloaded: https://aclanthology.org/2022.aacl-short.55.pdf @ ../../data/pdfs/aacl-2022\n",
      "Downloaded: https://aclanthology.org/2022.aacl-short.56.pdf @ ../../data/pdfs/aacl-2022\n"
     ]
    },
    {
     "ename": "ConnectTimeout",
     "evalue": "HTTPSConnectionPool(host='aclanthology.org', port=443): Max retries exceeded with url: /2022.aacl-short.57.pdf (Caused by ConnectTimeoutError(<urllib3.connection.HTTPSConnection object at 0x7ff6d797cb80>, 'Connection to aclanthology.org timed out. (connect timeout=None)'))",
     "output_type": "error",
     "traceback": [
      "\u001B[0;31m---------------------------------------------------------------------------\u001B[0m",
      "\u001B[0;31mTimeoutError\u001B[0m                              Traceback (most recent call last)",
      "File \u001B[0;32m~/anaconda3/envs/11711/lib/python3.10/site-packages/urllib3/connection.py:174\u001B[0m, in \u001B[0;36mHTTPConnection._new_conn\u001B[0;34m(self)\u001B[0m\n\u001B[1;32m    173\u001B[0m \u001B[39mtry\u001B[39;00m:\n\u001B[0;32m--> 174\u001B[0m     conn \u001B[39m=\u001B[39m connection\u001B[39m.\u001B[39;49mcreate_connection(\n\u001B[1;32m    175\u001B[0m         (\u001B[39mself\u001B[39;49m\u001B[39m.\u001B[39;49m_dns_host, \u001B[39mself\u001B[39;49m\u001B[39m.\u001B[39;49mport), \u001B[39mself\u001B[39;49m\u001B[39m.\u001B[39;49mtimeout, \u001B[39m*\u001B[39;49m\u001B[39m*\u001B[39;49mextra_kw\n\u001B[1;32m    176\u001B[0m     )\n\u001B[1;32m    178\u001B[0m \u001B[39mexcept\u001B[39;00m SocketTimeout:\n",
      "File \u001B[0;32m~/anaconda3/envs/11711/lib/python3.10/site-packages/urllib3/util/connection.py:95\u001B[0m, in \u001B[0;36mcreate_connection\u001B[0;34m(address, timeout, source_address, socket_options)\u001B[0m\n\u001B[1;32m     94\u001B[0m \u001B[39mif\u001B[39;00m err \u001B[39mis\u001B[39;00m \u001B[39mnot\u001B[39;00m \u001B[39mNone\u001B[39;00m:\n\u001B[0;32m---> 95\u001B[0m     \u001B[39mraise\u001B[39;00m err\n\u001B[1;32m     97\u001B[0m \u001B[39mraise\u001B[39;00m socket\u001B[39m.\u001B[39merror(\u001B[39m\"\u001B[39m\u001B[39mgetaddrinfo returns an empty list\u001B[39m\u001B[39m\"\u001B[39m)\n",
      "File \u001B[0;32m~/anaconda3/envs/11711/lib/python3.10/site-packages/urllib3/util/connection.py:85\u001B[0m, in \u001B[0;36mcreate_connection\u001B[0;34m(address, timeout, source_address, socket_options)\u001B[0m\n\u001B[1;32m     84\u001B[0m     sock\u001B[39m.\u001B[39mbind(source_address)\n\u001B[0;32m---> 85\u001B[0m sock\u001B[39m.\u001B[39;49mconnect(sa)\n\u001B[1;32m     86\u001B[0m \u001B[39mreturn\u001B[39;00m sock\n",
      "\u001B[0;31mTimeoutError\u001B[0m: [Errno 110] Connection timed out",
      "\nDuring handling of the above exception, another exception occurred:\n",
      "\u001B[0;31mConnectTimeoutError\u001B[0m                       Traceback (most recent call last)",
      "File \u001B[0;32m~/anaconda3/envs/11711/lib/python3.10/site-packages/urllib3/connectionpool.py:714\u001B[0m, in \u001B[0;36mHTTPConnectionPool.urlopen\u001B[0;34m(self, method, url, body, headers, retries, redirect, assert_same_host, timeout, pool_timeout, release_conn, chunked, body_pos, **response_kw)\u001B[0m\n\u001B[1;32m    713\u001B[0m \u001B[39m# Make the request on the httplib connection object.\u001B[39;00m\n\u001B[0;32m--> 714\u001B[0m httplib_response \u001B[39m=\u001B[39m \u001B[39mself\u001B[39;49m\u001B[39m.\u001B[39;49m_make_request(\n\u001B[1;32m    715\u001B[0m     conn,\n\u001B[1;32m    716\u001B[0m     method,\n\u001B[1;32m    717\u001B[0m     url,\n\u001B[1;32m    718\u001B[0m     timeout\u001B[39m=\u001B[39;49mtimeout_obj,\n\u001B[1;32m    719\u001B[0m     body\u001B[39m=\u001B[39;49mbody,\n\u001B[1;32m    720\u001B[0m     headers\u001B[39m=\u001B[39;49mheaders,\n\u001B[1;32m    721\u001B[0m     chunked\u001B[39m=\u001B[39;49mchunked,\n\u001B[1;32m    722\u001B[0m )\n\u001B[1;32m    724\u001B[0m \u001B[39m# If we're going to release the connection in ``finally:``, then\u001B[39;00m\n\u001B[1;32m    725\u001B[0m \u001B[39m# the response doesn't need to know about the connection. Otherwise\u001B[39;00m\n\u001B[1;32m    726\u001B[0m \u001B[39m# it will also try to release it and we'll have a double-release\u001B[39;00m\n\u001B[1;32m    727\u001B[0m \u001B[39m# mess.\u001B[39;00m\n",
      "File \u001B[0;32m~/anaconda3/envs/11711/lib/python3.10/site-packages/urllib3/connectionpool.py:403\u001B[0m, in \u001B[0;36mHTTPConnectionPool._make_request\u001B[0;34m(self, conn, method, url, timeout, chunked, **httplib_request_kw)\u001B[0m\n\u001B[1;32m    402\u001B[0m \u001B[39mtry\u001B[39;00m:\n\u001B[0;32m--> 403\u001B[0m     \u001B[39mself\u001B[39;49m\u001B[39m.\u001B[39;49m_validate_conn(conn)\n\u001B[1;32m    404\u001B[0m \u001B[39mexcept\u001B[39;00m (SocketTimeout, BaseSSLError) \u001B[39mas\u001B[39;00m e:\n\u001B[1;32m    405\u001B[0m     \u001B[39m# Py2 raises this as a BaseSSLError, Py3 raises it as socket timeout.\u001B[39;00m\n",
      "File \u001B[0;32m~/anaconda3/envs/11711/lib/python3.10/site-packages/urllib3/connectionpool.py:1053\u001B[0m, in \u001B[0;36mHTTPSConnectionPool._validate_conn\u001B[0;34m(self, conn)\u001B[0m\n\u001B[1;32m   1052\u001B[0m \u001B[39mif\u001B[39;00m \u001B[39mnot\u001B[39;00m \u001B[39mgetattr\u001B[39m(conn, \u001B[39m\"\u001B[39m\u001B[39msock\u001B[39m\u001B[39m\"\u001B[39m, \u001B[39mNone\u001B[39;00m):  \u001B[39m# AppEngine might not have  `.sock`\u001B[39;00m\n\u001B[0;32m-> 1053\u001B[0m     conn\u001B[39m.\u001B[39;49mconnect()\n\u001B[1;32m   1055\u001B[0m \u001B[39mif\u001B[39;00m \u001B[39mnot\u001B[39;00m conn\u001B[39m.\u001B[39mis_verified:\n",
      "File \u001B[0;32m~/anaconda3/envs/11711/lib/python3.10/site-packages/urllib3/connection.py:363\u001B[0m, in \u001B[0;36mHTTPSConnection.connect\u001B[0;34m(self)\u001B[0m\n\u001B[1;32m    361\u001B[0m \u001B[39mdef\u001B[39;00m \u001B[39mconnect\u001B[39m(\u001B[39mself\u001B[39m):\n\u001B[1;32m    362\u001B[0m     \u001B[39m# Add certificate verification\u001B[39;00m\n\u001B[0;32m--> 363\u001B[0m     \u001B[39mself\u001B[39m\u001B[39m.\u001B[39msock \u001B[39m=\u001B[39m conn \u001B[39m=\u001B[39m \u001B[39mself\u001B[39;49m\u001B[39m.\u001B[39;49m_new_conn()\n\u001B[1;32m    364\u001B[0m     hostname \u001B[39m=\u001B[39m \u001B[39mself\u001B[39m\u001B[39m.\u001B[39mhost\n",
      "File \u001B[0;32m~/anaconda3/envs/11711/lib/python3.10/site-packages/urllib3/connection.py:179\u001B[0m, in \u001B[0;36mHTTPConnection._new_conn\u001B[0;34m(self)\u001B[0m\n\u001B[1;32m    178\u001B[0m \u001B[39mexcept\u001B[39;00m SocketTimeout:\n\u001B[0;32m--> 179\u001B[0m     \u001B[39mraise\u001B[39;00m ConnectTimeoutError(\n\u001B[1;32m    180\u001B[0m         \u001B[39mself\u001B[39m,\n\u001B[1;32m    181\u001B[0m         \u001B[39m\"\u001B[39m\u001B[39mConnection to \u001B[39m\u001B[39m%s\u001B[39;00m\u001B[39m timed out. (connect timeout=\u001B[39m\u001B[39m%s\u001B[39;00m\u001B[39m)\u001B[39m\u001B[39m\"\u001B[39m\n\u001B[1;32m    182\u001B[0m         \u001B[39m%\u001B[39m (\u001B[39mself\u001B[39m\u001B[39m.\u001B[39mhost, \u001B[39mself\u001B[39m\u001B[39m.\u001B[39mtimeout),\n\u001B[1;32m    183\u001B[0m     )\n\u001B[1;32m    185\u001B[0m \u001B[39mexcept\u001B[39;00m SocketError \u001B[39mas\u001B[39;00m e:\n",
      "\u001B[0;31mConnectTimeoutError\u001B[0m: (<urllib3.connection.HTTPSConnection object at 0x7ff6d797cb80>, 'Connection to aclanthology.org timed out. (connect timeout=None)')",
      "\nDuring handling of the above exception, another exception occurred:\n",
      "\u001B[0;31mMaxRetryError\u001B[0m                             Traceback (most recent call last)",
      "File \u001B[0;32m~/anaconda3/envs/11711/lib/python3.10/site-packages/requests/adapters.py:486\u001B[0m, in \u001B[0;36mHTTPAdapter.send\u001B[0;34m(self, request, stream, timeout, verify, cert, proxies)\u001B[0m\n\u001B[1;32m    485\u001B[0m \u001B[39mtry\u001B[39;00m:\n\u001B[0;32m--> 486\u001B[0m     resp \u001B[39m=\u001B[39m conn\u001B[39m.\u001B[39;49murlopen(\n\u001B[1;32m    487\u001B[0m         method\u001B[39m=\u001B[39;49mrequest\u001B[39m.\u001B[39;49mmethod,\n\u001B[1;32m    488\u001B[0m         url\u001B[39m=\u001B[39;49murl,\n\u001B[1;32m    489\u001B[0m         body\u001B[39m=\u001B[39;49mrequest\u001B[39m.\u001B[39;49mbody,\n\u001B[1;32m    490\u001B[0m         headers\u001B[39m=\u001B[39;49mrequest\u001B[39m.\u001B[39;49mheaders,\n\u001B[1;32m    491\u001B[0m         redirect\u001B[39m=\u001B[39;49m\u001B[39mFalse\u001B[39;49;00m,\n\u001B[1;32m    492\u001B[0m         assert_same_host\u001B[39m=\u001B[39;49m\u001B[39mFalse\u001B[39;49;00m,\n\u001B[1;32m    493\u001B[0m         preload_content\u001B[39m=\u001B[39;49m\u001B[39mFalse\u001B[39;49;00m,\n\u001B[1;32m    494\u001B[0m         decode_content\u001B[39m=\u001B[39;49m\u001B[39mFalse\u001B[39;49;00m,\n\u001B[1;32m    495\u001B[0m         retries\u001B[39m=\u001B[39;49m\u001B[39mself\u001B[39;49m\u001B[39m.\u001B[39;49mmax_retries,\n\u001B[1;32m    496\u001B[0m         timeout\u001B[39m=\u001B[39;49mtimeout,\n\u001B[1;32m    497\u001B[0m         chunked\u001B[39m=\u001B[39;49mchunked,\n\u001B[1;32m    498\u001B[0m     )\n\u001B[1;32m    500\u001B[0m \u001B[39mexcept\u001B[39;00m (ProtocolError, \u001B[39mOSError\u001B[39;00m) \u001B[39mas\u001B[39;00m err:\n",
      "File \u001B[0;32m~/anaconda3/envs/11711/lib/python3.10/site-packages/urllib3/connectionpool.py:798\u001B[0m, in \u001B[0;36mHTTPConnectionPool.urlopen\u001B[0;34m(self, method, url, body, headers, retries, redirect, assert_same_host, timeout, pool_timeout, release_conn, chunked, body_pos, **response_kw)\u001B[0m\n\u001B[1;32m    796\u001B[0m     e \u001B[39m=\u001B[39m ProtocolError(\u001B[39m\"\u001B[39m\u001B[39mConnection aborted.\u001B[39m\u001B[39m\"\u001B[39m, e)\n\u001B[0;32m--> 798\u001B[0m retries \u001B[39m=\u001B[39m retries\u001B[39m.\u001B[39;49mincrement(\n\u001B[1;32m    799\u001B[0m     method, url, error\u001B[39m=\u001B[39;49me, _pool\u001B[39m=\u001B[39;49m\u001B[39mself\u001B[39;49m, _stacktrace\u001B[39m=\u001B[39;49msys\u001B[39m.\u001B[39;49mexc_info()[\u001B[39m2\u001B[39;49m]\n\u001B[1;32m    800\u001B[0m )\n\u001B[1;32m    801\u001B[0m retries\u001B[39m.\u001B[39msleep()\n",
      "File \u001B[0;32m~/anaconda3/envs/11711/lib/python3.10/site-packages/urllib3/util/retry.py:592\u001B[0m, in \u001B[0;36mRetry.increment\u001B[0;34m(self, method, url, response, error, _pool, _stacktrace)\u001B[0m\n\u001B[1;32m    591\u001B[0m \u001B[39mif\u001B[39;00m new_retry\u001B[39m.\u001B[39mis_exhausted():\n\u001B[0;32m--> 592\u001B[0m     \u001B[39mraise\u001B[39;00m MaxRetryError(_pool, url, error \u001B[39mor\u001B[39;00m ResponseError(cause))\n\u001B[1;32m    594\u001B[0m log\u001B[39m.\u001B[39mdebug(\u001B[39m\"\u001B[39m\u001B[39mIncremented Retry for (url=\u001B[39m\u001B[39m'\u001B[39m\u001B[39m%s\u001B[39;00m\u001B[39m'\u001B[39m\u001B[39m): \u001B[39m\u001B[39m%r\u001B[39;00m\u001B[39m\"\u001B[39m, url, new_retry)\n",
      "\u001B[0;31mMaxRetryError\u001B[0m: HTTPSConnectionPool(host='aclanthology.org', port=443): Max retries exceeded with url: /2022.aacl-short.57.pdf (Caused by ConnectTimeoutError(<urllib3.connection.HTTPSConnection object at 0x7ff6d797cb80>, 'Connection to aclanthology.org timed out. (connect timeout=None)'))",
      "\nDuring handling of the above exception, another exception occurred:\n",
      "\u001B[0;31mConnectTimeout\u001B[0m                            Traceback (most recent call last)",
      "\u001B[1;32m/home/bharathsk/acads/fall_2023/scientific_entity_recognition/src/data_scraping/fetch_acl_pdfs.ipynb Cell 6\u001B[0m line \u001B[0;36m1\n\u001B[0;32m----> <a href='vscode-notebook-cell://ssh-remote%2B172.26.61.45/home/bharathsk/acads/fall_2023/scientific_entity_recognition/src/data_scraping/fetch_acl_pdfs.ipynb#W5sdnNjb2RlLXJlbW90ZQ%3D%3D?line=0'>1</a>\u001B[0m scrape_pdfs_for_years()\n",
      "\u001B[1;32m/home/bharathsk/acads/fall_2023/scientific_entity_recognition/src/data_scraping/fetch_acl_pdfs.ipynb Cell 6\u001B[0m line \u001B[0;36m2\n\u001B[1;32m     <a href='vscode-notebook-cell://ssh-remote%2B172.26.61.45/home/bharathsk/acads/fall_2023/scientific_entity_recognition/src/data_scraping/fetch_acl_pdfs.ipynb#W5sdnNjb2RlLXJlbW90ZQ%3D%3D?line=20'>21</a>\u001B[0m os\u001B[39m.\u001B[39mmakedirs(dest_folder_dir, exist_ok\u001B[39m=\u001B[39m\u001B[39mTrue\u001B[39;00m)\n\u001B[1;32m     <a href='vscode-notebook-cell://ssh-remote%2B172.26.61.45/home/bharathsk/acads/fall_2023/scientific_entity_recognition/src/data_scraping/fetch_acl_pdfs.ipynb#W5sdnNjb2RlLXJlbW90ZQ%3D%3D?line=21'>22</a>\u001B[0m \u001B[39mfor\u001B[39;00m pdf_url \u001B[39min\u001B[39;00m pdf_links:\n\u001B[0;32m---> <a href='vscode-notebook-cell://ssh-remote%2B172.26.61.45/home/bharathsk/acads/fall_2023/scientific_entity_recognition/src/data_scraping/fetch_acl_pdfs.ipynb#W5sdnNjb2RlLXJlbW90ZQ%3D%3D?line=22'>23</a>\u001B[0m     download_pdf(pdf_url, dest_folder_dir)\n\u001B[1;32m     <a href='vscode-notebook-cell://ssh-remote%2B172.26.61.45/home/bharathsk/acads/fall_2023/scientific_entity_recognition/src/data_scraping/fetch_acl_pdfs.ipynb#W5sdnNjb2RlLXJlbW90ZQ%3D%3D?line=23'>24</a>\u001B[0m     \u001B[39mprint\u001B[39m(\u001B[39mf\u001B[39m\u001B[39m\"\u001B[39m\u001B[39mDownloaded: \u001B[39m\u001B[39m{\u001B[39;00mpdf_url\u001B[39m}\u001B[39;00m\u001B[39m @ \u001B[39m\u001B[39m{\u001B[39;00mdest_folder_dir\u001B[39m}\u001B[39;00m\u001B[39m\"\u001B[39m)\n",
      "\u001B[1;32m/home/bharathsk/acads/fall_2023/scientific_entity_recognition/src/data_scraping/fetch_acl_pdfs.ipynb Cell 6\u001B[0m line \u001B[0;36m2\n\u001B[1;32m      <a href='vscode-notebook-cell://ssh-remote%2B172.26.61.45/home/bharathsk/acads/fall_2023/scientific_entity_recognition/src/data_scraping/fetch_acl_pdfs.ipynb#W5sdnNjb2RlLXJlbW90ZQ%3D%3D?line=0'>1</a>\u001B[0m \u001B[39mdef\u001B[39;00m \u001B[39mdownload_pdf\u001B[39m(pdf_url, folder_name):\n\u001B[0;32m----> <a href='vscode-notebook-cell://ssh-remote%2B172.26.61.45/home/bharathsk/acads/fall_2023/scientific_entity_recognition/src/data_scraping/fetch_acl_pdfs.ipynb#W5sdnNjb2RlLXJlbW90ZQ%3D%3D?line=1'>2</a>\u001B[0m     response \u001B[39m=\u001B[39m requests\u001B[39m.\u001B[39;49mget(pdf_url)\n\u001B[1;32m      <a href='vscode-notebook-cell://ssh-remote%2B172.26.61.45/home/bharathsk/acads/fall_2023/scientific_entity_recognition/src/data_scraping/fetch_acl_pdfs.ipynb#W5sdnNjb2RlLXJlbW90ZQ%3D%3D?line=2'>3</a>\u001B[0m     pdf_name \u001B[39m=\u001B[39m os\u001B[39m.\u001B[39mpath\u001B[39m.\u001B[39mjoin(folder_name, pdf_url\u001B[39m.\u001B[39msplit(\u001B[39m\"\u001B[39m\u001B[39m/\u001B[39m\u001B[39m\"\u001B[39m)[\u001B[39m-\u001B[39m\u001B[39m1\u001B[39m])\n\u001B[1;32m      <a href='vscode-notebook-cell://ssh-remote%2B172.26.61.45/home/bharathsk/acads/fall_2023/scientific_entity_recognition/src/data_scraping/fetch_acl_pdfs.ipynb#W5sdnNjb2RlLXJlbW90ZQ%3D%3D?line=3'>4</a>\u001B[0m     \u001B[39mwith\u001B[39;00m \u001B[39mopen\u001B[39m(pdf_name, \u001B[39m'\u001B[39m\u001B[39mwb\u001B[39m\u001B[39m'\u001B[39m) \u001B[39mas\u001B[39;00m pdf_file:\n",
      "File \u001B[0;32m~/anaconda3/envs/11711/lib/python3.10/site-packages/requests/api.py:73\u001B[0m, in \u001B[0;36mget\u001B[0;34m(url, params, **kwargs)\u001B[0m\n\u001B[1;32m     62\u001B[0m \u001B[39mdef\u001B[39;00m \u001B[39mget\u001B[39m(url, params\u001B[39m=\u001B[39m\u001B[39mNone\u001B[39;00m, \u001B[39m*\u001B[39m\u001B[39m*\u001B[39mkwargs):\n\u001B[1;32m     63\u001B[0m \u001B[39m    \u001B[39m\u001B[39mr\u001B[39m\u001B[39m\"\"\"Sends a GET request.\u001B[39;00m\n\u001B[1;32m     64\u001B[0m \n\u001B[1;32m     65\u001B[0m \u001B[39m    :param url: URL for the new :class:`Request` object.\u001B[39;00m\n\u001B[0;32m   (...)\u001B[0m\n\u001B[1;32m     70\u001B[0m \u001B[39m    :rtype: requests.Response\u001B[39;00m\n\u001B[1;32m     71\u001B[0m \u001B[39m    \"\"\"\u001B[39;00m\n\u001B[0;32m---> 73\u001B[0m     \u001B[39mreturn\u001B[39;00m request(\u001B[39m\"\u001B[39;49m\u001B[39mget\u001B[39;49m\u001B[39m\"\u001B[39;49m, url, params\u001B[39m=\u001B[39;49mparams, \u001B[39m*\u001B[39;49m\u001B[39m*\u001B[39;49mkwargs)\n",
      "File \u001B[0;32m~/anaconda3/envs/11711/lib/python3.10/site-packages/requests/api.py:59\u001B[0m, in \u001B[0;36mrequest\u001B[0;34m(method, url, **kwargs)\u001B[0m\n\u001B[1;32m     55\u001B[0m \u001B[39m# By using the 'with' statement we are sure the session is closed, thus we\u001B[39;00m\n\u001B[1;32m     56\u001B[0m \u001B[39m# avoid leaving sockets open which can trigger a ResourceWarning in some\u001B[39;00m\n\u001B[1;32m     57\u001B[0m \u001B[39m# cases, and look like a memory leak in others.\u001B[39;00m\n\u001B[1;32m     58\u001B[0m \u001B[39mwith\u001B[39;00m sessions\u001B[39m.\u001B[39mSession() \u001B[39mas\u001B[39;00m session:\n\u001B[0;32m---> 59\u001B[0m     \u001B[39mreturn\u001B[39;00m session\u001B[39m.\u001B[39;49mrequest(method\u001B[39m=\u001B[39;49mmethod, url\u001B[39m=\u001B[39;49murl, \u001B[39m*\u001B[39;49m\u001B[39m*\u001B[39;49mkwargs)\n",
      "File \u001B[0;32m~/anaconda3/envs/11711/lib/python3.10/site-packages/requests/sessions.py:589\u001B[0m, in \u001B[0;36mSession.request\u001B[0;34m(self, method, url, params, data, headers, cookies, files, auth, timeout, allow_redirects, proxies, hooks, stream, verify, cert, json)\u001B[0m\n\u001B[1;32m    584\u001B[0m send_kwargs \u001B[39m=\u001B[39m {\n\u001B[1;32m    585\u001B[0m     \u001B[39m\"\u001B[39m\u001B[39mtimeout\u001B[39m\u001B[39m\"\u001B[39m: timeout,\n\u001B[1;32m    586\u001B[0m     \u001B[39m\"\u001B[39m\u001B[39mallow_redirects\u001B[39m\u001B[39m\"\u001B[39m: allow_redirects,\n\u001B[1;32m    587\u001B[0m }\n\u001B[1;32m    588\u001B[0m send_kwargs\u001B[39m.\u001B[39mupdate(settings)\n\u001B[0;32m--> 589\u001B[0m resp \u001B[39m=\u001B[39m \u001B[39mself\u001B[39;49m\u001B[39m.\u001B[39;49msend(prep, \u001B[39m*\u001B[39;49m\u001B[39m*\u001B[39;49msend_kwargs)\n\u001B[1;32m    591\u001B[0m \u001B[39mreturn\u001B[39;00m resp\n",
      "File \u001B[0;32m~/anaconda3/envs/11711/lib/python3.10/site-packages/requests/sessions.py:703\u001B[0m, in \u001B[0;36mSession.send\u001B[0;34m(self, request, **kwargs)\u001B[0m\n\u001B[1;32m    700\u001B[0m start \u001B[39m=\u001B[39m preferred_clock()\n\u001B[1;32m    702\u001B[0m \u001B[39m# Send the request\u001B[39;00m\n\u001B[0;32m--> 703\u001B[0m r \u001B[39m=\u001B[39m adapter\u001B[39m.\u001B[39;49msend(request, \u001B[39m*\u001B[39;49m\u001B[39m*\u001B[39;49mkwargs)\n\u001B[1;32m    705\u001B[0m \u001B[39m# Total elapsed time of the request (approximately)\u001B[39;00m\n\u001B[1;32m    706\u001B[0m elapsed \u001B[39m=\u001B[39m preferred_clock() \u001B[39m-\u001B[39m start\n",
      "File \u001B[0;32m~/anaconda3/envs/11711/lib/python3.10/site-packages/requests/adapters.py:507\u001B[0m, in \u001B[0;36mHTTPAdapter.send\u001B[0;34m(self, request, stream, timeout, verify, cert, proxies)\u001B[0m\n\u001B[1;32m    504\u001B[0m \u001B[39mif\u001B[39;00m \u001B[39misinstance\u001B[39m(e\u001B[39m.\u001B[39mreason, ConnectTimeoutError):\n\u001B[1;32m    505\u001B[0m     \u001B[39m# TODO: Remove this in 3.0.0: see #2811\u001B[39;00m\n\u001B[1;32m    506\u001B[0m     \u001B[39mif\u001B[39;00m \u001B[39mnot\u001B[39;00m \u001B[39misinstance\u001B[39m(e\u001B[39m.\u001B[39mreason, NewConnectionError):\n\u001B[0;32m--> 507\u001B[0m         \u001B[39mraise\u001B[39;00m ConnectTimeout(e, request\u001B[39m=\u001B[39mrequest)\n\u001B[1;32m    509\u001B[0m \u001B[39mif\u001B[39;00m \u001B[39misinstance\u001B[39m(e\u001B[39m.\u001B[39mreason, ResponseError):\n\u001B[1;32m    510\u001B[0m     \u001B[39mraise\u001B[39;00m RetryError(e, request\u001B[39m=\u001B[39mrequest)\n",
      "\u001B[0;31mConnectTimeout\u001B[0m: HTTPSConnectionPool(host='aclanthology.org', port=443): Max retries exceeded with url: /2022.aacl-short.57.pdf (Caused by ConnectTimeoutError(<urllib3.connection.HTTPSConnection object at 0x7ff6d797cb80>, 'Connection to aclanthology.org timed out. (connect timeout=None)'))"
     ]
    }
   ],
   "source": [
    "scrape_pdfs_for_years()"
   ]
  }
 ],
 "metadata": {
  "kernelspec": {
   "display_name": "Python 3",
   "language": "python",
   "name": "python3"
  },
  "language_info": {
   "codemirror_mode": {
    "name": "ipython",
    "version": 3
   },
   "file_extension": ".py",
   "mimetype": "text/x-python",
   "name": "python",
   "nbconvert_exporter": "python",
   "pygments_lexer": "ipython3",
   "version": "3.10.13"
  }
 },
 "nbformat": 4,
 "nbformat_minor": 5
}
