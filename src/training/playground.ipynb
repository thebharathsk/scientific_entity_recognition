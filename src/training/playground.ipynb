{
 "cells": [
  {
   "cell_type": "markdown",
   "metadata": {},
   "source": [
    "# Load transformer model"
   ]
  },
  {
   "cell_type": "code",
   "execution_count": 5,
   "metadata": {},
   "outputs": [],
   "source": [
    "import spacy\n",
    "nlp_trf = spacy.load(\"en_core_web_trf\")\n",
    "\n",
    "nlp_bg = spacy.load(\"en_core_web_lg\")\n"
   ]
  },
  {
   "cell_type": "markdown",
   "metadata": {},
   "source": [
    "# Pass text through model"
   ]
  },
  {
   "cell_type": "code",
   "execution_count": 6,
   "metadata": {},
   "outputs": [],
   "source": [
    "text = 'I love paris. There are 10245565 parisians each of whom weigh 61.08348 kgs on average. The average radius is 143.8957349182391 cm.'\n",
    " \n",
    "doc_trf = nlp_trf(text)\n",
    "doc_bg = nlp_bg(text)"
   ]
  },
  {
   "cell_type": "markdown",
   "metadata": {},
   "source": [
    "# Print Tokens"
   ]
  },
  {
   "cell_type": "code",
   "execution_count": 7,
   "metadata": {},
   "outputs": [
    {
     "name": "stdout",
     "output_type": "stream",
     "text": [
      "I\n",
      "love\n",
      "paris\n",
      ".\n",
      "There\n",
      "are\n",
      "10245565\n",
      "parisians\n",
      "each\n",
      "of\n",
      "whom\n",
      "weigh\n",
      "61.08348\n",
      "kgs\n",
      "on\n",
      "average\n",
      ".\n",
      "The\n",
      "average\n",
      "radius\n",
      "is\n",
      "143.8957349182391\n",
      "cm\n",
      ".\n",
      "#############\n",
      "I\n",
      "love\n",
      "paris\n",
      ".\n",
      "There\n",
      "are\n",
      "10245565\n",
      "parisians\n",
      "each\n",
      "of\n",
      "whom\n",
      "weigh\n",
      "61.08348\n",
      "kgs\n",
      "on\n",
      "average\n",
      ".\n",
      "The\n",
      "average\n",
      "radius\n",
      "is\n",
      "143.8957349182391\n",
      "cm\n",
      ".\n",
      "24 24\n",
      "True\n"
     ]
    }
   ],
   "source": [
    "list_trf = []\n",
    "list_bg = []\n",
    "\n",
    "#print tokens\n",
    "for token in doc_trf:\n",
    "    print(token.text)\n",
    "    list_trf.append(token.text)\n",
    "\n",
    "print('#############')\n",
    "\n",
    "#print tokens\n",
    "for token in doc_bg:\n",
    "    print(token.text)\n",
    "    list_bg.append(token.text)\n",
    "    \n",
    "print(len(list_trf), len(list_bg))\n",
    "\n",
    "#check if the two lists are same\n",
    "print(list_trf == list_bg)\n"
   ]
  },
  {
   "cell_type": "markdown",
   "metadata": {},
   "source": [
    "# Print entities detected"
   ]
  },
  {
   "cell_type": "code",
   "execution_count": 16,
   "metadata": {},
   "outputs": [
    {
     "name": "stdout",
     "output_type": "stream",
     "text": [
      "eleven 96 102 CARDINAL\n",
      "80.5%(7.7% 173 183 PERCENT\n",
      "86.7%(4.6%absolute improvement),SQuADv1.1 question 234 284 PERCENT\n",
      "93.2(1.5 306 314 CARDINAL\n",
      "83.1 368 372 CARDINAL\n",
      "5.1 point 374 383 PERCENT\n"
     ]
    }
   ],
   "source": [
    "for ent in doc_trf.ents:\n",
    "    print(ent.text, ent.start_char, ent.end_char, ent.label_)"
   ]
  }
 ],
 "metadata": {
  "kernelspec": {
   "display_name": "11711",
   "language": "python",
   "name": "python3"
  },
  "language_info": {
   "codemirror_mode": {
    "name": "ipython",
    "version": 3
   },
   "file_extension": ".py",
   "mimetype": "text/x-python",
   "name": "python",
   "nbconvert_exporter": "python",
   "pygments_lexer": "ipython3",
   "version": "3.10.13"
  }
 },
 "nbformat": 4,
 "nbformat_minor": 2
}
